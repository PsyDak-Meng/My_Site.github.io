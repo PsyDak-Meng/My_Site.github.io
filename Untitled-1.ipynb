{
 "cells": [
  {
   "cell_type": "code",
   "execution_count": 46,
   "metadata": {},
   "outputs": [],
   "source": [
    "def decode(message_file):\n",
    "    with open(message_file) as mf:\n",
    "        words = mf.readlines()\n",
    "        \n",
    "        # create word_dict={num:word} \n",
    "        word_dict = {}\n",
    "        for word in words:\n",
    "            word_dict[int(word.split(' ')[0])] = word.split(' ')[1] \n",
    "\n",
    "        n = len(words)\n",
    "        message = ''\n",
    "        \n",
    "        i = 1\n",
    "        key =1\n",
    "        while key <= n:\n",
    "            message += word_dict[key]\n",
    "            i += 1\n",
    "            key += i\n",
    "            \n",
    "        print(message)\n",
    "    return message\n"
   ]
  },
  {
   "cell_type": "code",
   "execution_count": 47,
   "metadata": {},
   "outputs": [
    {
     "name": "stdout",
     "output_type": "stream",
     "text": [
      "design\n",
      "all\n",
      "skill\n",
      "whole\n",
      "check\n",
      "deal\n",
      "wish\n",
      "visit\n",
      "now\n",
      "moment\n",
      "offer\n",
      "planet\n",
      "people\n",
      "electric\n",
      "lot\n",
      "huge\n",
      "system\n",
      "card\n",
      "current\n",
      "man\n",
      "way\n",
      "our\n",
      "parent\n",
      "wait\n",
      "\n"
     ]
    }
   ],
   "source": [
    "path = r\"C:\\Users\\dakot\\Downloads\\coding_qual_input.txt\"\n",
    "\n",
    "decode(path)"
   ]
  },
  {
   "cell_type": "code",
   "execution_count": null,
   "metadata": {},
   "outputs": [],
   "source": []
  }
 ],
 "metadata": {
  "kernelspec": {
   "display_name": "Python 3",
   "language": "python",
   "name": "python3"
  },
  "language_info": {
   "codemirror_mode": {
    "name": "ipython",
    "version": 3
   },
   "file_extension": ".py",
   "mimetype": "text/x-python",
   "name": "python",
   "nbconvert_exporter": "python",
   "pygments_lexer": "ipython3",
   "version": "3.10.7"
  }
 },
 "nbformat": 4,
 "nbformat_minor": 2
}
